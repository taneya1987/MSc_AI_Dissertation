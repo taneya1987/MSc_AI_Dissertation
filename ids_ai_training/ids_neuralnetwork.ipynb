{
 "cells": [
  {
   "cell_type": "code",
   "execution_count": 48,
   "metadata": {
    "executionInfo": {
     "elapsed": 235,
     "status": "ok",
     "timestamp": 1722270293637,
     "user": {
      "displayName": "Taneya Sharma",
      "userId": "15266465864194635850"
     },
     "user_tz": -60
    },
    "id": "9K5_jCYaN0sZ"
   },
   "outputs": [],
   "source": [
    "import pandas as pd\n",
    "import numpy as np\n",
    "from sklearn.model_selection import train_test_split, cross_val_score\n",
    "from sklearn.impute import SimpleImputer\n",
    "from sklearn.preprocessing import OneHotEncoder, StandardScaler\n",
    "from sklearn.compose import ColumnTransformer\n",
    "from sklearn.pipeline import Pipeline\n",
    "import tensorflow as tf\n",
    "from tensorflow.keras.models import Sequential\n",
    "from tensorflow.keras.layers import Dense, Dropout\n",
    "from tensorflow.keras.utils import to_categorical\n",
    "from sklearn.metrics import classification_report, confusion_matrix, accuracy_score, roc_curve, auc"
   ]
  },
  {
   "cell_type": "code",
   "execution_count": 49,
   "metadata": {
    "executionInfo": {
     "elapsed": 249,
     "status": "ok",
     "timestamp": 1722270294199,
     "user": {
      "displayName": "Taneya Sharma",
      "userId": "15266465864194635850"
     },
     "user_tz": -60
    },
    "id": "_SZynAq-OXMb"
   },
   "outputs": [],
   "source": [
    "# Loading the dataset\n",
    "# Experiment#1\n",
    "# data_file = 'training_dataset_per_second.csv'\n",
    "# test_data_file = 'test-dataset_per_second_70-30.csv'\n",
    "\n",
    "# Experiment#2\n",
    "# data_file = 'training_dataset_per_second.csv'\n",
    "# test_data_file = 'test-dataset_per_second_93-7.csv'\n",
    "\n",
    "# Experiment#3\n",
    "# data_file = 'training_dataset_200k.csv'\n",
    "# test_data_file = 'test-dataset_70-30.csv'\n",
    "\n",
    "# Experiment#4\n",
    "data_file = 'training_dataset_200k.csv'\n",
    "test_data_file = 'test-dataset_93-7.csv'\n",
    "\n",
    "data = pd.read_csv(data_file)\n",
    "data_test = pd.read_csv(test_data_file)"
   ]
  },
  {
   "cell_type": "code",
   "execution_count": 50,
   "metadata": {
    "executionInfo": {
     "elapsed": 16,
     "status": "ok",
     "timestamp": 1722270294636,
     "user": {
      "displayName": "Taneya Sharma",
      "userId": "15266465864194635850"
     },
     "user_tz": -60
    },
    "id": "IngTELbwOZ0o"
   },
   "outputs": [],
   "source": [
    "# Replace missing values in 'File Extension' column with 'cmd'\n",
    "data['File Extension'].fillna('cmd', inplace=True)"
   ]
  },
  {
   "cell_type": "code",
   "execution_count": 51,
   "metadata": {
    "executionInfo": {
     "elapsed": 16,
     "status": "ok",
     "timestamp": 1722270294636,
     "user": {
      "displayName": "Taneya Sharma",
      "userId": "15266465864194635850"
     },
     "user_tz": -60
    },
    "id": "BDVuUwGhnzHN"
   },
   "outputs": [],
   "source": [
    "# Experiment to check and consolidate the data per 5 seconds. Not included for Project Experiments\n",
    "# Calculate the 'Requests Every 5s' feature\n",
    "def calculate_requests_every_5s(df):\n",
    "    # Convert 'Timestamp' to datetime format\n",
    "    df['Timestamp'] = pd.to_datetime(df['Timestamp'])\n",
    "\n",
    "    # Sort by 'Client ID' and 'Timestamp'\n",
    "    df = df.sort_values(by=['Client ID', 'Timestamp'])\n",
    "\n",
    "    # Initialize the new column with zeros\n",
    "    df['Requests Every 5s'] = 0\n",
    "\n",
    "    # Group by 'Client ID'\n",
    "    grouped = df.groupby('Client ID')\n",
    "\n",
    "    for name, group in grouped:\n",
    "        # Calculate the number of requests every 5 seconds for each client\n",
    "        count_5s = group['Timestamp'].diff().dt.total_seconds().fillna(0).cumsum() // 5\n",
    "        df.loc[group.index, 'Requests Every 5s'] = group.groupby(count_5s).cumcount() + 1\n",
    "\n",
    "    return df\n",
    "\n",
    "# data = calculate_requests_every_5s(data)\n",
    "\n",
    "# # Save the updated dataset\n",
    "# data.to_csv('updated_dataset-5050.csv', index=False)"
   ]
  },
  {
   "cell_type": "code",
   "execution_count": 52,
   "metadata": {
    "executionInfo": {
     "elapsed": 16,
     "status": "ok",
     "timestamp": 1722270294636,
     "user": {
      "displayName": "Taneya Sharma",
      "userId": "15266465864194635850"
     },
     "user_tz": -60
    },
    "id": "9ThTcH2FGZn3"
   },
   "outputs": [],
   "source": [
    "# Experiment to consolidate the data per second. Finalized for Project Experiments\n",
    "def calculate_requests_and_volume_per_second(df):\n",
    "    # Convert 'Timestamp' to datetime format\n",
    "    df['Timestamp'] = pd.to_datetime(df['Timestamp'])\n",
    "\n",
    "    # Sort by 'Client ID' and 'Timestamp'\n",
    "    df = df.sort_values(by=['Client ID', 'Timestamp'])\n",
    "\n",
    "    # Round down the timestamp to the nearest second\n",
    "    df['Second'] = df['Timestamp'].dt.floor('S')\n",
    "\n",
    "    # Calculate the number of requests per second for each Client ID\n",
    "    df['Requests Per Second'] = df.groupby(['Client ID', 'Second'])['Second'].transform('count')\n",
    "\n",
    "    # Calculate the sum of Data Transfer Volume per second for each Client ID\n",
    "    df['Volume Per Second'] = df.groupby(['Client ID', 'Second'])['Data Transfer Volume'].transform('sum')\n",
    "\n",
    "    # Keep only the last record for each second for each Client ID\n",
    "    df = df.groupby(['Client ID', 'Second']).tail(1)\n",
    "\n",
    "    # Drop the 'Second' column as it's no longer needed\n",
    "    df = df.drop(columns=['Second'])\n",
    "\n",
    "    return df\n",
    "\n",
    "# data = calculate_requests_and_volume_per_second(data)\n",
    "# data_test = calculate_requests_and_volume_per_second(data_test)\n",
    "\n",
    "# Save the updated dataset\n",
    "# data.to_csv('training_dataset_per_second.csv', index=False)\n",
    "# data_test.to_csv('test-dataset_per_second_70-30.csv', index=False)"
   ]
  },
  {
   "cell_type": "code",
   "source": [
    "# Experiment to check and consolidate the data per micro seconds. Not included for Project Experiments\n",
    "def calculate_requests_and_volume_per_microsecond(df):\n",
    "    # Convert 'Timestamp' to datetime format\n",
    "    df['Timestamp'] = pd.to_datetime(df['Timestamp'])\n",
    "\n",
    "    # Sort by 'Client ID' and 'Timestamp'\n",
    "    df = df.sort_values(by=['Client ID', 'Timestamp'])\n",
    "\n",
    "    # Round down the timestamp to the nearest microsecond\n",
    "    df['Microsecond'] = df['Timestamp'].dt.floor('U')\n",
    "\n",
    "    # Calculate the number of requests per microsecond for each Client ID\n",
    "    df['Requests Per Microsecond'] = df.groupby(['Client ID', 'Microsecond'])['Microsecond'].transform('count')\n",
    "\n",
    "    # Calculate the sum of Data Transfer Volume per microsecond for each Client ID\n",
    "    df['Volume Per Microsecond'] = df.groupby(['Client ID', 'Microsecond'])['Data Transfer Volume'].transform('sum')\n",
    "\n",
    "    # Keep only the last record for each microsecond for each Client ID\n",
    "    df = df.groupby(['Client ID', 'Microsecond']).tail(1)\n",
    "\n",
    "    # Drop the 'Microsecond' column as it's no longer needed\n",
    "    df = df.drop(columns=['Microsecond'])\n",
    "\n",
    "    return df\n",
    "\n",
    "# data = calculate_requests_and_volume_per_microsecond(data)\n",
    "\n",
    "# # Save the updated dataset\n",
    "# data.to_csv('reduced_dataset_microsecond-28June.csv', index=False)"
   ],
   "metadata": {
    "id": "rh9N45Nx5eRS",
    "executionInfo": {
     "status": "ok",
     "timestamp": 1722270294636,
     "user_tz": -60,
     "elapsed": 15,
     "user": {
      "displayName": "Taneya Sharma",
      "userId": "15266465864194635850"
     }
    }
   },
   "execution_count": 53,
   "outputs": []
  },
  {
   "cell_type": "code",
   "source": [
    "# Display the first few rows of the updated dataset\n",
    "print(data.head())\n",
    "print(data_test.head())\n",
    "\n",
    "print(f'Number of rows: {len(data)}')\n",
    "print(f'Number of test rows: {len(data_test)}')\n",
    "\n",
    "# Check the distribution of the target variable\n",
    "print(f\"Data Intruder count: {data['Intruder Flag'].value_counts()}\")\n",
    "print(f\"Test Data Intruder count: {data_test['Intruder Flag'].value_counts()}\")"
   ],
   "metadata": {
    "colab": {
     "base_uri": "https://localhost:8080/"
    },
    "id": "cMXDrJih3ogd",
    "executionInfo": {
     "status": "ok",
     "timestamp": 1722270294636,
     "user_tz": -60,
     "elapsed": 15,
     "user": {
      "displayName": "Taneya Sharma",
      "userId": "15266465864194635850"
     }
    },
    "outputId": "88801459-06d5-49c5-984a-761576c70188"
   },
   "execution_count": 54,
   "outputs": [
    {
     "output_type": "stream",
     "name": "stdout",
     "text": [
      "   Unnamed: 0            Timestamp  Client ID  Message Type  Message Size  \\\n",
      "0     1156271  2024-06-25 14:36:55   client_2             0      12929525   \n",
      "1     1802394  2024-06-26 13:26:20  intruder2             0            17   \n",
      "2     1451110  2024-06-26 13:08:50  intruder2             1             1   \n",
      "3     1967327  2024-07-02 15:17:31   client_1             0      38247618   \n",
      "4      133960  2024-06-24 11:37:54   client_2             0       9906345   \n",
      "\n",
      "   Encryption Status File Extension  File Size  Number of Messages  \\\n",
      "0               True            mp4   12929525                   1   \n",
      "1               True            cmd          0              289312   \n",
      "2               True            cmd          0                4050   \n",
      "3               True            mp4   38247618                   1   \n",
      "4               True            mp4    9906345                   1   \n",
      "\n",
      "   Number of Files  Client IP  Server Response Time  Connection Duration  \\\n",
      "0                1  10.0.2.16          1.054647e+02         98256.025675   \n",
      "1                0    0.0.0.0          5.330000e-04          1062.309128   \n",
      "2                0  10.0.3.56          1.040000e-03            12.905523   \n",
      "3                1  10.0.2.15          2.133351e+06          2213.981704   \n",
      "4                1  10.0.2.16          2.971108e+01          1115.054954   \n",
      "\n",
      "   Number of Connections  Data Transfer Volume  Request Frequency  Error Rate  \\\n",
      "0                      1             347820469                 61           0   \n",
      "1                      1               3076732             289311       97052   \n",
      "2                      1                 43465               4049        1336   \n",
      "3                      1              37627904                  0           0   \n",
      "4                      1              24883149                  9           0   \n",
      "\n",
      "  Encryption Type  Intruder Flag  \n",
      "0             ECC              0  \n",
      "1           Kyber              1  \n",
      "2           Kyber              1  \n",
      "3           Kyber              0  \n",
      "4             ECC              0  \n",
      "   Unnamed: 0            Timestamp  Client ID  Message Type  Message Size  \\\n",
      "0       29042  2024-07-08 12:57:34   client_5             0       4511170   \n",
      "1       61063  2024-07-08 13:00:56   client_1             0      15791488   \n",
      "2       15283  2024-07-08 12:56:42  intruder2             0      15788241   \n",
      "3       38981  2024-07-08 12:58:17   client_1             0      10486584   \n",
      "4       11299  2024-07-08 12:56:17   client_1             0       7339747   \n",
      "\n",
      "   Encryption Status File Extension  File Size  Number of Messages  \\\n",
      "0               True            mp3    4511170                   1   \n",
      "1               True            mp4   15791488                   1   \n",
      "2               True            mp4   15788241                   1   \n",
      "3               True            mp4   10486584                   1   \n",
      "4               True            mp4    7339747                   1   \n",
      "\n",
      "   Number of Files  Client IP  Server Response Time  Connection Duration  \\\n",
      "0                1  10.0.2.19             42270.039           137.009657   \n",
      "1                1  10.0.2.15             43311.046           332.913272   \n",
      "2                1  10.0.3.56             64292.096            66.448658   \n",
      "3                1  10.0.2.15             51145.924           173.367516   \n",
      "4                1  10.0.2.15             26671.851            54.035105   \n",
      "\n",
      "   Number of Connections  Data Transfer Volume  Request Frequency  Error Rate  \\\n",
      "0                      1               8858561                  2           0   \n",
      "1                      1              28874267                  2           0   \n",
      "2                      1              15809949                  2           0   \n",
      "3                      1              11884259                  1           0   \n",
      "4                      1               2124800                  0           0   \n",
      "\n",
      "  Encryption Type  Intruder Flag  \n",
      "0           Kyber              0  \n",
      "1             ECC              0  \n",
      "2           Kyber              1  \n",
      "3             ECC              0  \n",
      "4             ECC              0  \n",
      "Number of rows: 198534\n",
      "Number of test rows: 48160\n",
      "Data Intruder count: Intruder Flag\n",
      "0    116835\n",
      "1     81699\n",
      "Name: count, dtype: int64\n",
      "Test Data Intruder count: Intruder Flag\n",
      "0    44876\n",
      "1     3284\n",
      "Name: count, dtype: int64\n"
     ]
    }
   ]
  },
  {
   "cell_type": "code",
   "execution_count": 55,
   "metadata": {
    "executionInfo": {
     "elapsed": 14,
     "status": "ok",
     "timestamp": 1722270294636,
     "user": {
      "displayName": "Taneya Sharma",
      "userId": "15266465864194635850"
     },
     "user_tz": -60
    },
    "id": "j8FyhYj-6MoP"
   },
   "outputs": [],
   "source": [
    "# Feature selection and target variable\n",
    "features = data[[\n",
    "    'Client ID',\n",
    "    'Message Type',\n",
    "    'Message Size',\n",
    "    'File Extension',\n",
    "    'File Size',\n",
    "    'Connection Duration',\n",
    "    'Number of Messages',\n",
    "    'Number of Files',\n",
    "    'Client IP',\n",
    "    'Data Transfer Volume',\n",
    "    'Request Frequency',\n",
    "    'Error Rate',\n",
    "    # 'Requests Every 5s',\n",
    "    # 'Requests Per Second',\n",
    "    # 'Volume Per Second',\n",
    "    # 'Requests Per Microsecond',\n",
    "    # 'Volume Per Microsecond',\n",
    "]]\n",
    "target = data['Intruder Flag']"
   ]
  },
  {
   "cell_type": "code",
   "source": [
    "# Feature selection and target variable\n",
    "features_test = data_test[[\n",
    "    'Client ID',\n",
    "    'Message Type',\n",
    "    'Message Size',\n",
    "    'File Extension',\n",
    "    'File Size',\n",
    "    'Connection Duration',\n",
    "    'Number of Messages',\n",
    "    'Number of Files',\n",
    "    'Client IP',\n",
    "    'Data Transfer Volume',\n",
    "    'Request Frequency',\n",
    "    'Error Rate',\n",
    "    # 'Requests Every 5s',\n",
    "    # 'Requests Per Second',\n",
    "    # 'Volume Per Second',\n",
    "    # 'Requests Per Microsecond',\n",
    "    # 'Volume Per Microsecond',\n",
    "]]\n",
    "target_test = data_test['Intruder Flag']"
   ],
   "metadata": {
    "id": "usPgPWd0Okcs",
    "executionInfo": {
     "status": "ok",
     "timestamp": 1722270294637,
     "user_tz": -60,
     "elapsed": 15,
     "user": {
      "displayName": "Taneya Sharma",
      "userId": "15266465864194635850"
     }
    }
   },
   "execution_count": 56,
   "outputs": []
  },
  {
   "cell_type": "code",
   "execution_count": 57,
   "metadata": {
    "executionInfo": {
     "elapsed": 15,
     "status": "ok",
     "timestamp": 1722270294637,
     "user": {
      "displayName": "Taneya Sharma",
      "userId": "15266465864194635850"
     },
     "user_tz": -60
    },
    "id": "8CvHbxaHOcQJ"
   },
   "outputs": [],
   "source": [
    "# Handling missing values by imputing with mean for numerical features\n",
    "numeric_features = [\n",
    "    # 'Message Type',\n",
    "    'Message Size',\n",
    "    'File Size',\n",
    "    'Connection Duration',\n",
    "    # 'Number of Messages',\n",
    "    # 'Number of Files',\n",
    "    'Data Transfer Volume',\n",
    "    # 'Request Frequency',\n",
    "    # 'Error Rate',\n",
    "    # 'Requests Every 5s',\n",
    "    # 'Requests Per Second',\n",
    "    # 'Volume Per Second',\n",
    "    # 'Requests Per Microsecond',\n",
    "    # 'Volume Per Microsecond',\n",
    "]\n",
    "\n",
    "numeric_transformer = SimpleImputer(strategy='mean')\n",
    "\n",
    "# numeric_transformer = Pipeline(steps=[\n",
    "#     ('imputer', SimpleImputer(strategy='mean')),\n",
    "#     ('scaler', StandardScaler())\n",
    "# ])"
   ]
  },
  {
   "cell_type": "code",
   "execution_count": 58,
   "metadata": {
    "executionInfo": {
     "elapsed": 15,
     "status": "ok",
     "timestamp": 1722270294638,
     "user": {
      "displayName": "Taneya Sharma",
      "userId": "15266465864194635850"
     },
     "user_tz": -60
    },
    "id": "3u394g4t5zSF",
    "colab": {
     "base_uri": "https://localhost:8080/"
    },
    "outputId": "f857c70d-b2e3-4f5b-f513-3357caeaebe9"
   },
   "outputs": [
    {
     "output_type": "stream",
     "name": "stdout",
     "text": [
      "Numeric features: ['Message Size', 'File Size', 'Connection Duration', 'Data Transfer Volume'] \n",
      "Categorical features: None\n"
     ]
    }
   ],
   "source": [
    "# Handling categorical features\n",
    "categorical_features = [\n",
    "    # 'Client ID',\n",
    "    # 'File Extension',\n",
    "    # 'Client IP'\n",
    "]\n",
    "\n",
    "categorical_transformer = OneHotEncoder(handle_unknown='ignore')\n",
    "# y_train_encoded = categorical_transformer.fit_transform(y_train.reshape(-1, 1))\n",
    "\n",
    "# categorical_transformer = Pipeline(steps=[\n",
    "#     ('onehot', OneHotEncoder(handle_unknown='ignore'))\n",
    "# ])\n",
    "print(f'Numeric features: {numeric_features} \\nCategorical features: {categorical_features if categorical_features else None}')"
   ]
  },
  {
   "cell_type": "code",
   "execution_count": 59,
   "metadata": {
    "executionInfo": {
     "elapsed": 12,
     "status": "ok",
     "timestamp": 1722270294638,
     "user": {
      "displayName": "Taneya Sharma",
      "userId": "15266465864194635850"
     },
     "user_tz": -60
    },
    "id": "NVm8MVQm4C7d"
   },
   "outputs": [],
   "source": [
    "# Preprocessor\n",
    "preprocessor = ColumnTransformer(\n",
    "    transformers=[\n",
    "        ('num', numeric_transformer, numeric_features),\n",
    "        ('cat', categorical_transformer, categorical_features)])"
   ]
  },
  {
   "cell_type": "code",
   "execution_count": 60,
   "metadata": {
    "executionInfo": {
     "elapsed": 12,
     "status": "ok",
     "timestamp": 1722270294638,
     "user": {
      "displayName": "Taneya Sharma",
      "userId": "15266465864194635850"
     },
     "user_tz": -60
    },
    "id": "Um9m1CeXrs8y"
   },
   "outputs": [],
   "source": [
    "# Splitting the dataset into training and testing sets\n",
    "X_train, X_val, y_train, y_val = train_test_split(features, target, test_size=0.2, random_state=42)\n",
    "X_test, y_test = features_test, target_test"
   ]
  },
  {
   "cell_type": "code",
   "execution_count": 61,
   "metadata": {
    "executionInfo": {
     "elapsed": 12,
     "status": "ok",
     "timestamp": 1722270294638,
     "user": {
      "displayName": "Taneya Sharma",
      "userId": "15266465864194635850"
     },
     "user_tz": -60
    },
    "id": "PCMhAbV3qQzs"
   },
   "outputs": [],
   "source": [
    "# Apply preprocessing to the features\n",
    "X_train = preprocessor.fit_transform(X_train)\n",
    "X_val = preprocessor.transform(X_val)\n",
    "X_test = preprocessor.transform(X_test)\n",
    "\n",
    "# Convert target to categorical\n",
    "y_train = to_categorical(y_train)\n",
    "y_val = to_categorical(y_val)\n",
    "y_test = to_categorical(y_test)"
   ]
  },
  {
   "cell_type": "code",
   "source": [
    "# print(f'X_train_scale shape: {X_train_scale.shape}')\n",
    "# print(f'X_val_scale shape: {X_val_scale.shape}')\n",
    "# print(f'X_test_scale shape: {X_test_scale.shape}')\n",
    "# print(f'y_train shape: {y_train.shape}')\n",
    "# print(f'y_val shape: {y_val.shape}')\n",
    "# print(f'y_test shape: {y_test.shape}')"
   ],
   "metadata": {
    "id": "F9cnv7jeutcp",
    "executionInfo": {
     "status": "ok",
     "timestamp": 1722270294638,
     "user_tz": -60,
     "elapsed": 11,
     "user": {
      "displayName": "Taneya Sharma",
      "userId": "15266465864194635850"
     }
    }
   },
   "execution_count": 62,
   "outputs": []
  },
  {
   "cell_type": "code",
   "source": [
    "from sklearn.preprocessing import MinMaxScaler\n",
    "\n",
    "# Initialize the scaler\n",
    "scaler = MinMaxScaler()\n",
    "\n",
    "# Fit the scaler on the training data\n",
    "X_train_scale = scaler.fit_transform(X_train)\n",
    "X_val_scale = scaler.transform(X_val)\n",
    "X_test_scale = scaler.transform(X_test)\n",
    "\n",
    "print(X_train_scale)"
   ],
   "metadata": {
    "colab": {
     "base_uri": "https://localhost:8080/"
    },
    "id": "5OCSJG3jw-Lo",
    "executionInfo": {
     "status": "ok",
     "timestamp": 1722270294639,
     "user_tz": -60,
     "elapsed": 12,
     "user": {
      "displayName": "Taneya Sharma",
      "userId": "15266465864194635850"
     }
    },
    "outputId": "c064c909-931e-47cc-c3a4-726b6f3fd11c"
   },
   "execution_count": 63,
   "outputs": [
    {
     "output_type": "stream",
     "name": "stdout",
     "text": [
      "[[1.11522768e-02 1.11522768e-02 9.86304391e-01 8.68831030e-01]\n",
      " [1.01314569e-02 1.01314569e-02 1.81253726e-01 6.23383662e-01]\n",
      " [3.56208701e-02 3.56208701e-02 1.23098442e-02 7.36753641e-02]\n",
      " ...\n",
      " [4.16201502e-02 4.16201502e-02 1.33045061e-02 3.88372560e-01]\n",
      " [1.58324838e-08 0.00000000e+00 5.38991120e-03 4.99094774e-03]\n",
      " [9.18264873e-03 9.18264873e-03 1.00660654e-01 4.27784809e-01]]\n"
     ]
    }
   ]
  },
  {
   "cell_type": "code",
   "source": [
    "print(f'X_train_scale shape: {X_train_scale.shape}')\n",
    "print(f'X_val_scale shape: {X_val_scale.shape}')\n",
    "print(f'X_test_scale shape: {X_test_scale.shape}')\n",
    "print(f'y_train shape: {y_train.shape}')\n",
    "print(f'y_val shape: {y_val.shape}')\n",
    "print(f'y_test shape: {y_test.shape}')"
   ],
   "metadata": {
    "colab": {
     "base_uri": "https://localhost:8080/"
    },
    "id": "QXJgsDTc6bxZ",
    "executionInfo": {
     "status": "ok",
     "timestamp": 1722270294639,
     "user_tz": -60,
     "elapsed": 10,
     "user": {
      "displayName": "Taneya Sharma",
      "userId": "15266465864194635850"
     }
    },
    "outputId": "f3415d73-bb80-4d57-ae40-ae6da38f10b1"
   },
   "execution_count": 64,
   "outputs": [
    {
     "output_type": "stream",
     "name": "stdout",
     "text": [
      "X_train_scale shape: (158827, 4)\n",
      "X_val_scale shape: (39707, 4)\n",
      "X_test_scale shape: (48160, 4)\n",
      "y_train shape: (158827, 2)\n",
      "y_val shape: (39707, 2)\n",
      "y_test shape: (48160, 2)\n"
     ]
    }
   ]
  },
  {
   "cell_type": "code",
   "source": [
    "# from sklearn.preprocessing import StandardScaler\n",
    "\n",
    "# # Initialize the scaler\n",
    "# scaler = StandardScaler(with_mean=False)\n",
    "\n",
    "# # Fit the scaler on the training data\n",
    "# X_train_scale = scaler.fit_transform(X_train)\n",
    "# X_test_scale = scaler.transform(X_test)\n",
    "\n",
    "# print(X_train_scale)"
   ],
   "metadata": {
    "id": "lip1PydEx9Im",
    "executionInfo": {
     "status": "ok",
     "timestamp": 1722270294639,
     "user_tz": -60,
     "elapsed": 8,
     "user": {
      "displayName": "Taneya Sharma",
      "userId": "15266465864194635850"
     }
    }
   },
   "execution_count": 65,
   "outputs": []
  },
  {
   "cell_type": "code",
   "execution_count": 66,
   "metadata": {
    "executionInfo": {
     "elapsed": 8,
     "status": "ok",
     "timestamp": 1722270294639,
     "user": {
      "displayName": "Taneya Sharma",
      "userId": "15266465864194635850"
     },
     "user_tz": -60
    },
    "id": "CVLLmW-wruB0"
   },
   "outputs": [],
   "source": [
    "# Build the neural network model\n",
    "model = Sequential()\n",
    "model.add(Dense(64, input_dim=X_train_scale.shape[1], activation='relu'))\n",
    "model.add(Dropout(0.5))\n",
    "model.add(Dense(32, activation='relu'))\n",
    "model.add(Dropout(0.5))\n",
    "model.add(Dense(2, activation='softmax'))  # Binary Classification"
   ]
  },
  {
   "cell_type": "code",
   "execution_count": 67,
   "metadata": {
    "executionInfo": {
     "elapsed": 7,
     "status": "ok",
     "timestamp": 1722270294639,
     "user": {
      "displayName": "Taneya Sharma",
      "userId": "15266465864194635850"
     },
     "user_tz": -60
    },
    "id": "wu_qNav3OfWo"
   },
   "outputs": [],
   "source": [
    "import tensorflow as tf\n",
    "from tensorflow.keras.optimizers import Adam\n",
    "\n",
    "optimizer = Adam(learning_rate=0.0015)\n",
    "\n",
    "# Compile the model\n",
    "model.compile(optimizer=optimizer, loss='categorical_crossentropy', metrics=['accuracy'])\n",
    "# model.compile(optimizer=optimizer, loss='binary_crossentropy', metrics=['accuracy'])"
   ]
  },
  {
   "cell_type": "code",
   "execution_count": 68,
   "metadata": {
    "colab": {
     "base_uri": "https://localhost:8080/"
    },
    "id": "lmwc6ikfOhXB",
    "outputId": "4761e10f-3e31-4a0c-b919-01fd53570b9a",
    "executionInfo": {
     "status": "ok",
     "timestamp": 1722270344212,
     "user_tz": -60,
     "elapsed": 49580,
     "user": {
      "displayName": "Taneya Sharma",
      "userId": "15266465864194635850"
     }
    }
   },
   "outputs": [
    {
     "output_type": "stream",
     "name": "stdout",
     "text": [
      "Epoch 1/50\n",
      "4964/4964 [==============================] - 11s 2ms/step - loss: 0.1164 - accuracy: 0.9577 - val_loss: 0.0228 - val_accuracy: 0.9934\n",
      "Epoch 2/50\n",
      "4964/4964 [==============================] - 9s 2ms/step - loss: 0.0298 - accuracy: 0.9920 - val_loss: 0.0162 - val_accuracy: 0.9978\n",
      "Epoch 3/50\n",
      "4964/4964 [==============================] - 10s 2ms/step - loss: 0.0231 - accuracy: 0.9937 - val_loss: 0.0090 - val_accuracy: 0.9968\n",
      "Epoch 4/50\n",
      "4964/4964 [==============================] - 10s 2ms/step - loss: 0.0205 - accuracy: 0.9945 - val_loss: 0.0087 - val_accuracy: 0.9981\n",
      "Epoch 5/50\n",
      "4964/4964 [==============================] - 10s 2ms/step - loss: 0.0233 - accuracy: 0.9941 - val_loss: 0.0238 - val_accuracy: 0.9898\n"
     ]
    }
   ],
   "source": [
    "# Early stopping callback\n",
    "from tensorflow.keras.callbacks import EarlyStopping\n",
    "early_stopping = EarlyStopping(monitor='val_loss', patience=0, restore_best_weights=True)\n",
    "\n",
    "# Train the model\n",
    "# Convert sparse matrices to dense NumPy arrays\n",
    "# X_train_dense = X_train_scale.toarray()\n",
    "\n",
    "history = model.fit(\n",
    "                    # X_train_dense,\n",
    "                    X_train_scale,\n",
    "                    y_train,\n",
    "                    epochs=50,\n",
    "                    batch_size=32,\n",
    "                    # validation_split=0.2,\n",
    "                    validation_data=(X_val_scale, y_val),\n",
    "                    callbacks=[early_stopping])"
   ]
  },
  {
   "cell_type": "code",
   "source": [
    "# Evaluate the model\n",
    "val_loss, val_accuracy = model.evaluate(X_val_scale, y_val)\n",
    "print(f'Validation Loss: {val_loss}')\n",
    "print(f'Validation Accuracy: {val_accuracy}')"
   ],
   "metadata": {
    "colab": {
     "base_uri": "https://localhost:8080/"
    },
    "id": "d-qYCQbDnvHG",
    "executionInfo": {
     "status": "ok",
     "timestamp": 1722270346056,
     "user_tz": -60,
     "elapsed": 1861,
     "user": {
      "displayName": "Taneya Sharma",
      "userId": "15266465864194635850"
     }
    },
    "outputId": "b6c00636-4eba-4937-9624-2520ccc7c12d"
   },
   "execution_count": 69,
   "outputs": [
    {
     "output_type": "stream",
     "name": "stdout",
     "text": [
      "1241/1241 [==============================] - 2s 1ms/step - loss: 0.0087 - accuracy: 0.9981\n",
      "Validation Loss: 0.008727658540010452\n",
      "Validation Accuracy: 0.9980859756469727\n"
     ]
    }
   ]
  },
  {
   "cell_type": "code",
   "source": [
    "# Get the best model weights from the early stopping callback\n",
    "best_model_weights = early_stopping.best_weights\n",
    "\n",
    "# Extract the best model weights from the training history\n",
    "\n",
    "def score_model_with_permuted_features(X, y):\n",
    "    \"\"\"\n",
    "    This function resets the model's weights to their best state (from early stopping),\n",
    "    permutes the features one by one, and evaluates the model's performance on the permuted data.\n",
    "    \"\"\"\n",
    "    model.set_weights(best_model_weights)\n",
    "\n",
    "    X_permuted = X.copy()\n",
    "    for col in X_permuted.columns:\n",
    "        X_permuted[col] = np.random.permutation(X_permuted[col])\n",
    "\n",
    "    # Assuming you want to use 'accuracy' as the metric\n",
    "    loss, accuracy = model.evaluate(X_permuted, y, verbose=0)\n",
    "    return accuracy  # Return the desired metric"
   ],
   "metadata": {
    "id": "9npWiWmlUPle",
    "executionInfo": {
     "status": "ok",
     "timestamp": 1722270346056,
     "user_tz": -60,
     "elapsed": 6,
     "user": {
      "displayName": "Taneya Sharma",
      "userId": "15266465864194635850"
     }
    }
   },
   "execution_count": 70,
   "outputs": []
  },
  {
   "cell_type": "code",
   "source": [
    "# Create a custom estimator class for your model\n",
    "from sklearn.base import BaseEstimator\n",
    "class KerasModelWrapper(BaseEstimator):\n",
    "    def __init__(self, model, best_weights):\n",
    "        self.model = model\n",
    "        self.best_weights = best_weights\n",
    "\n",
    "    def fit(self, X, y):\n",
    "        # No fitting needed since we already have the best weights\n",
    "        return self\n",
    "\n",
    "    def score(self, X, y):\n",
    "        # Same scoring logic as your function\n",
    "        self.model.set_weights(self.best_weights)\n",
    "        return score_model_with_permuted_features(X, y)\n",
    "\n",
    "# Create an instance of the wrapper class\n",
    "estimator = KerasModelWrapper(model, best_model_weights)"
   ],
   "metadata": {
    "id": "vcgTtJIyXBNS",
    "executionInfo": {
     "status": "ok",
     "timestamp": 1722270346056,
     "user_tz": -60,
     "elapsed": 5,
     "user": {
      "displayName": "Taneya Sharma",
      "userId": "15266465864194635850"
     }
    }
   },
   "execution_count": 71,
   "outputs": []
  },
  {
   "cell_type": "code",
   "source": [
    "print(f'X_train_scale shape: {X_train_scale.shape}')\n",
    "print(f'X_val_scale shape: {X_val_scale.shape}')\n",
    "print(f'X_test_scale shape: {X_test_scale.shape}')"
   ],
   "metadata": {
    "colab": {
     "base_uri": "https://localhost:8080/"
    },
    "id": "bkKKVAblvAXn",
    "executionInfo": {
     "status": "ok",
     "timestamp": 1722270346056,
     "user_tz": -60,
     "elapsed": 5,
     "user": {
      "displayName": "Taneya Sharma",
      "userId": "15266465864194635850"
     }
    },
    "outputId": "177e0099-9a7c-4ea3-f234-b87641c48c1e"
   },
   "execution_count": 72,
   "outputs": [
    {
     "output_type": "stream",
     "name": "stdout",
     "text": [
      "X_train_scale shape: (158827, 4)\n",
      "X_val_scale shape: (39707, 4)\n",
      "X_test_scale shape: (48160, 4)\n"
     ]
    }
   ]
  },
  {
   "cell_type": "code",
   "source": [
    "# Get permutation importance\n",
    "from sklearn.inspection import permutation_importance\n",
    "# y_train_encoded = y_train_encoded[:X_train_scale.shape[0]]  # Adjust slicing as needed\n",
    "\n",
    "# Convert X_val_scale to a DataFrame if it's not already\n",
    "if not isinstance(X_val_scale, pd.DataFrame):\n",
    "    X_val_scale = pd.DataFrame(X_val_scale, columns=[f\"feature_{i}\" for i in range(X_val_scale.shape[1])])\n",
    "\n",
    "# Perform permutation importance\n",
    "result = permutation_importance(\n",
    "    estimator,\n",
    "    X_val_scale,   # Use validation data to avoid overfitting bias\n",
    "    y_val,\n",
    "    n_repeats=10,  # Number of times to repeat the permutation\n",
    "    random_state=42\n",
    "    # scoring='accuracy'   # Removed since it's already handled in score_model_with_permuted_features\n",
    ")\n",
    "\n",
    "# **Get feature names from X_val_scale instead of 'features'**\n",
    "feature_names = X_val_scale.columns\n",
    "\n",
    "# Create the DataFrame to map feature names to importances\n",
    "feature_names = features.columns  # Assuming 'features' is a DataFrame\n",
    "# importances_df = pd.DataFrame({\n",
    "#     'Feature': feature_names,\n",
    "#     'Importance Mean': result.importances_mean,\n",
    "#     'Importance Std': result.importances_std\n",
    "# })\n",
    "\n",
    "# print(importances_df)"
   ],
   "metadata": {
    "id": "3KximDx8hP-2",
    "executionInfo": {
     "status": "ok",
     "timestamp": 1722270403848,
     "user_tz": -60,
     "elapsed": 57795,
     "user": {
      "displayName": "Taneya Sharma",
      "userId": "15266465864194635850"
     }
    }
   },
   "execution_count": 73,
   "outputs": []
  },
  {
   "cell_type": "code",
   "source": [
    "# Make predictions\n",
    "y_pred = np.argmax(model.predict(X_val_scale), axis=-1)\n",
    "y_val_true = np.argmax(y_val, axis=-1)"
   ],
   "metadata": {
    "colab": {
     "base_uri": "https://localhost:8080/"
    },
    "id": "L8jX7T5WQzxE",
    "executionInfo": {
     "status": "ok",
     "timestamp": 1722270405669,
     "user_tz": -60,
     "elapsed": 1838,
     "user": {
      "displayName": "Taneya Sharma",
      "userId": "15266465864194635850"
     }
    },
    "outputId": "fb7e4895-9540-4c57-b324-00e478445284"
   },
   "execution_count": 74,
   "outputs": [
    {
     "output_type": "stream",
     "name": "stdout",
     "text": [
      "1241/1241 [==============================] - 1s 1ms/step\n"
     ]
    }
   ]
  },
  {
   "cell_type": "code",
   "source": [
    "# Make predictions\n",
    "y_pred = np.argmax(model.predict(X_val), axis=-1)\n",
    "y_val_true = np.argmax(y_val, axis=-1)"
   ],
   "metadata": {
    "colab": {
     "base_uri": "https://localhost:8080/"
    },
    "id": "G7YScbqWQ5Pn",
    "executionInfo": {
     "status": "ok",
     "timestamp": 1722270407567,
     "user_tz": -60,
     "elapsed": 1902,
     "user": {
      "displayName": "Taneya Sharma",
      "userId": "15266465864194635850"
     }
    },
    "outputId": "ca61ac78-7ed2-49a5-cfd3-d357d52e9d1a"
   },
   "execution_count": 75,
   "outputs": [
    {
     "output_type": "stream",
     "name": "stdout",
     "text": [
      "1241/1241 [==============================] - 2s 1ms/step\n"
     ]
    }
   ]
  },
  {
   "cell_type": "code",
   "source": [
    "import matplotlib.pyplot as plt\n",
    "\n",
    "# Plot training & validation loss values\n",
    "plt.figure(figsize=(12, 4))\n",
    "plt.subplot(1, 2, 1)\n",
    "plt.plot(history.history['loss'], label='Train Loss')\n",
    "plt.plot(history.history['val_loss'], label='Validation Loss')\n",
    "plt.title('Model Loss')\n",
    "plt.xlabel('Epoch')\n",
    "plt.ylabel('Loss')\n",
    "plt.legend()"
   ],
   "metadata": {
    "colab": {
     "base_uri": "https://localhost:8080/",
     "height": 427
    },
    "id": "l74cEL4JnwPP",
    "executionInfo": {
     "status": "ok",
     "timestamp": 1722270408024,
     "user_tz": -60,
     "elapsed": 463,
     "user": {
      "displayName": "Taneya Sharma",
      "userId": "15266465864194635850"
     }
    },
    "outputId": "9d567f4a-3387-4f9c-b005-88c4366f3641"
   },
   "execution_count": 76,
   "outputs": [
    {
     "output_type": "execute_result",
     "data": {
      "text/plain": [
       "<matplotlib.legend.Legend at 0x7af5006795a0>"
      ]
     },
     "metadata": {},
     "execution_count": 76
    },
    {
     "output_type": "display_data",
     "data": {
      "text/plain": [
       "<Figure size 1200x400 with 1 Axes>"
      ],
      "image/png": "[encoded data removed]"
     },
     "metadata": {}
    }
   ]
  },
  {
   "cell_type": "code",
   "source": [
    "# Plot training & validation accuracy values\n",
    "plt.subplot(1, 2, 2)\n",
    "plt.plot(history.history['accuracy'], label='Train Accuracy')\n",
    "plt.plot(history.history['val_accuracy'], label='Validation Accuracy')\n",
    "plt.title('Model Accuracy')\n",
    "plt.xlabel('Epoch')\n",
    "plt.ylabel('Accuracy')\n",
    "plt.legend()"
   ],
   "metadata": {
    "colab": {
     "base_uri": "https://localhost:8080/",
     "height": 489
    },
    "id": "lCIL5nXunzPs",
    "executionInfo": {
     "status": "ok",
     "timestamp": 1722270408025,
     "user_tz": -60,
     "elapsed": 8,
     "user": {
      "displayName": "Taneya Sharma",
      "userId": "15266465864194635850"
     }
    },
    "outputId": "0b331e1d-30be-4b7f-ffcd-9491d560cded"
   },
   "execution_count": 77,
   "outputs": [
    {
     "output_type": "execute_result",
     "data": {
      "text/plain": [
       "<matplotlib.legend.Legend at 0x7afdb69d9240>"
      ]
     },
     "metadata": {},
     "execution_count": 77
    },
    {
     "output_type": "display_data",
     "data": {
      "text/plain": [
       "<Figure size 640x480 with 1 Axes>"
      ],
      "image/png": "[encoded data removed]"
     },
     "metadata": {}
    }
   ]
  },
  {
   "cell_type": "code",
   "source": [
    "# Plotting cross-validation scores (using validation accuracy)\n",
    "plt.figure(figsize=(10, 6))\n",
    "plt.plot(history.history['accuracy'], label='Training Accuracy')\n",
    "plt.plot(history.history['val_accuracy'], label='Validation Accuracy')\n",
    "plt.xlabel('Epochs')\n",
    "plt.ylabel('Accuracy')\n",
    "plt.title('Training and Validation Accuracy')\n",
    "plt.legend()\n",
    "plt.show()"
   ],
   "metadata": {
    "colab": {
     "base_uri": "https://localhost:8080/",
     "height": 478
    },
    "id": "ZjOmgItDRA8B",
    "executionInfo": {
     "status": "ok",
     "timestamp": 1722270408536,
     "user_tz": -60,
     "elapsed": 516,
     "user": {
      "displayName": "Taneya Sharma",
      "userId": "15266465864194635850"
     }
    },
    "outputId": "262aa8bb-c1b6-4a75-f74a-5ad1bff8608c"
   },
   "execution_count": 78,
   "outputs": [
    {
     "output_type": "display_data",
     "data": {
      "text/plain": [
       "<Figure size 1000x600 with 1 Axes>"
      ],
      "image/png": "[encoded data removed]"
     },
     "metadata": {}
    }
   ]
  },
  {
   "cell_type": "code",
   "source": [
    "# ROC Curve and AUC for validation data\n",
    "y_proba = model.predict(X_val_scale)[:, 1]\n",
    "fpr, tpr, thresholds = roc_curve(y_val_true, y_proba)\n",
    "roc_auc = auc(fpr, tpr)\n",
    "\n",
    "plt.figure(figsize=(10, 6))\n",
    "plt.plot(fpr, tpr, color='darkorange', lw=2, label=f'ROC curve (area = {roc_auc:.2f})')\n",
    "plt.plot([0, 1], [0, 1], color='navy', lw=2, linestyle='--')\n",
    "plt.xlim([0.0, 1.0])\n",
    "plt.ylim([0.0, 1.05])\n",
    "plt.xlabel('False Positive Rate')\n",
    "plt.ylabel('True Positive Rate')\n",
    "plt.title('Receiver Operating Characteristic (ROC) Validation Curve')\n",
    "plt.legend(loc='lower right')\n",
    "plt.show()"
   ],
   "metadata": {
    "colab": {
     "base_uri": "https://localhost:8080/",
     "height": 499
    },
    "id": "Z_NaB0epn2aW",
    "executionInfo": {
     "status": "ok",
     "timestamp": 1722270410416,
     "user_tz": -60,
     "elapsed": 1886,
     "user": {
      "displayName": "Taneya Sharma",
      "userId": "15266465864194635850"
     }
    },
    "outputId": "8ddc997a-eb2a-4f4a-f090-46caa416310c"
   },
   "execution_count": 79,
   "outputs": [
    {
     "output_type": "stream",
     "name": "stdout",
     "text": [
      "1241/1241 [==============================] - 1s 1ms/step\n"
     ]
    },
    {
     "output_type": "display_data",
     "data": {
      "text/plain": [
       "<Figure size 1000x600 with 1 Axes>"
      ],
      "image/png": "[encoded data removed]"
     },
     "metadata": {}
    }
   ]
  },
  {
   "cell_type": "code",
   "source": [
    "print(X_test_scale)\n",
    "print(X_test)\n",
    "print(y_test)"
   ],
   "metadata": {
    "colab": {
     "base_uri": "https://localhost:8080/"
    },
    "id": "30pJ356hg9Ie",
    "executionInfo": {
     "status": "ok",
     "timestamp": 1722270410416,
     "user_tz": -60,
     "elapsed": 9,
     "user": {
      "displayName": "Taneya Sharma",
      "userId": "15266465864194635850"
     }
    },
    "outputId": "2acddea3-8781-4bcb-c805-0fbba130ed96"
   },
   "execution_count": 80,
   "outputs": [
    {
     "output_type": "stream",
     "name": "stdout",
     "text": [
      "[[4.20135446e-03 4.20135446e-03 7.52809233e-04 1.72120184e-02]\n",
      " [1.47069693e-02 1.47069693e-02 1.82922933e-03 5.61021610e-02]\n",
      " [1.47039453e-02 1.47039453e-02 3.65101851e-04 3.07184353e-02]\n",
      " ...\n",
      " [1.47069693e-02 1.47069693e-02 1.59708170e-03 3.47197916e-02]\n",
      " [1.47039453e-02 1.47039453e-02 1.23365797e-05 4.62665234e-03]\n",
      " [1.33060012e-03 1.33060012e-03 1.74264583e-04 9.62972623e-04]]\n",
      "[[4.51117000e+06 4.51117000e+06 1.37009657e+02 8.85856100e+06]\n",
      " [1.57914880e+07 1.57914880e+07 3.32913272e+02 2.88742670e+07]\n",
      " [1.57882410e+07 1.57882410e+07 6.64486580e+01 1.58099490e+07]\n",
      " ...\n",
      " [1.57914880e+07 1.57914880e+07 2.90663447e+02 1.78693390e+07]\n",
      " [1.57882410e+07 1.57882410e+07 2.24696600e+00 2.38121300e+06]\n",
      " [1.42872100e+06 1.42872100e+06 3.17171340e+01 4.95616000e+05]]\n",
      "[[1. 0.]\n",
      " [1. 0.]\n",
      " [0. 1.]\n",
      " ...\n",
      " [1. 0.]\n",
      " [0. 1.]\n",
      " [1. 0.]]\n"
     ]
    }
   ]
  },
  {
   "cell_type": "code",
   "source": [
    "print(f'X_test_scale shape: {X_test_scale.shape}')\n",
    "print(f'y_test shape: {y_test.shape}')"
   ],
   "metadata": {
    "colab": {
     "base_uri": "https://localhost:8080/"
    },
    "id": "--bKi5Gz5_Us",
    "executionInfo": {
     "status": "ok",
     "timestamp": 1722270410416,
     "user_tz": -60,
     "elapsed": 8,
     "user": {
      "displayName": "Taneya Sharma",
      "userId": "15266465864194635850"
     }
    },
    "outputId": "f8d8a4f4-ae7f-450b-90f9-57487a754b88"
   },
   "execution_count": 81,
   "outputs": [
    {
     "output_type": "stream",
     "name": "stdout",
     "text": [
      "X_test_scale shape: (48160, 4)\n",
      "y_test shape: (48160, 2)\n"
     ]
    }
   ]
  },
  {
   "cell_type": "code",
   "execution_count": 82,
   "metadata": {
    "colab": {
     "base_uri": "https://localhost:8080/"
    },
    "id": "IrMoJp_wOkbK",
    "executionInfo": {
     "status": "ok",
     "timestamp": 1722270414712,
     "user_tz": -60,
     "elapsed": 4301,
     "user": {
      "displayName": "Taneya Sharma",
      "userId": "15266465864194635850"
     }
    },
    "outputId": "3447cbe1-c922-456d-9fbb-1fb32f4de6bb"
   },
   "outputs": [
    {
     "output_type": "stream",
     "name": "stdout",
     "text": [
      "1505/1505 [==============================] - 2s 1ms/step - loss: 0.1992 - accuracy: 0.9387\n",
      "Test Loss: 0.19920289516448975\n",
      "Test Accuracy: 0.9386627674102783\n",
      "1505/1505 [==============================] - 2s 1ms/step\n"
     ]
    }
   ],
   "source": [
    "# Evaluate the model on the test set\n",
    "test_loss, test_accuracy = model.evaluate(X_test_scale, y_test)\n",
    "print(f'Test Loss: {test_loss}')\n",
    "print(f'Test Accuracy: {test_accuracy}')\n",
    "\n",
    "# Make predictions on the test set\n",
    "y_pred_test = np.argmax(model.predict(X_test_scale), axis=-1)\n",
    "y_test_true = np.argmax(y_test, axis=-1)"
   ]
  },
  {
   "cell_type": "code",
   "source": [
    "# Evaluate the model on the test set\n",
    "print(\"Test Confusion Matrix:\")\n",
    "cm = confusion_matrix(y_test_true, y_pred_test)\n",
    "print(cm)\n",
    "\n",
    "print(\"\\nTest Classification Report:\")\n",
    "print(classification_report(y_test_true, y_pred_test))\n",
    "\n",
    "print(\"\\nTest Accuracy Score:\")\n",
    "print(accuracy_score(y_test_true, y_pred_test))"
   ],
   "metadata": {
    "colab": {
     "base_uri": "https://localhost:8080/"
    },
    "id": "EsSHik_DRVoS",
    "executionInfo": {
     "status": "ok",
     "timestamp": 1722270414713,
     "user_tz": -60,
     "elapsed": 17,
     "user": {
      "displayName": "Taneya Sharma",
      "userId": "15266465864194635850"
     }
    },
    "outputId": "2ece1792-1651-4c34-e553-90b2c31564b0"
   },
   "execution_count": 83,
   "outputs": [
    {
     "output_type": "stream",
     "name": "stdout",
     "text": [
      "Test Confusion Matrix:\n",
      "[[43443  1433]\n",
      " [ 1521  1763]]\n",
      "\n",
      "Test Classification Report:\n",
      "              precision    recall  f1-score   support\n",
      "\n",
      "           0       0.97      0.97      0.97     44876\n",
      "           1       0.55      0.54      0.54      3284\n",
      "\n",
      "    accuracy                           0.94     48160\n",
      "   macro avg       0.76      0.75      0.76     48160\n",
      "weighted avg       0.94      0.94      0.94     48160\n",
      "\n",
      "\n",
      "Test Accuracy Score:\n",
      "0.9386627906976744\n"
     ]
    }
   ]
  },
  {
   "cell_type": "code",
   "source": [
    "# ROC Curve and AUC for test data\n",
    "y_proba_test = model.predict(X_test_scale)[:, 1]\n",
    "fpr, tpr, thresholds = roc_curve(y_test_true, y_proba_test)\n",
    "roc_auc = auc(fpr, tpr)\n",
    "\n",
    "plt.figure(figsize=(10, 6))\n",
    "plt.plot(fpr, tpr, color='darkorange', lw=2, label=f'ROC curve (area = {roc_auc:.2f})')\n",
    "plt.plot([0, 1], [0, 1], color='navy', lw=2, linestyle='--')\n",
    "plt.xlim([0.0, 1.0])\n",
    "plt.ylim([0.0, 1.05])\n",
    "plt.xlabel('False Positive Rate')\n",
    "plt.ylabel('True Positive Rate')\n",
    "plt.title('Receiver Operating Characteristic (ROC) Test Curve')\n",
    "plt.legend(loc='lower right')\n",
    "plt.show()"
   ],
   "metadata": {
    "colab": {
     "base_uri": "https://localhost:8080/",
     "height": 499
    },
    "id": "8GCEf2r5RYoG",
    "executionInfo": {
     "status": "ok",
     "timestamp": 1722270417405,
     "user_tz": -60,
     "elapsed": 2706,
     "user": {
      "displayName": "Taneya Sharma",
      "userId": "15266465864194635850"
     }
    },
    "outputId": "80ea04ee-fc8c-4899-9b6b-dd3de850c9fd"
   },
   "execution_count": 84,
   "outputs": [
    {
     "output_type": "stream",
     "name": "stdout",
     "text": [
      "1505/1505 [==============================] - 2s 1ms/step\n"
     ]
    },
    {
     "output_type": "display_data",
     "data": {
      "text/plain": [
       "<Figure size 1000x600 with 1 Axes>"
      ],
      "image/png": "[encoded data removed]"
     },
     "metadata": {}
    }
   ]
  },
  {
   "cell_type": "code",
   "source": [
    "# Inference: Display Ground Truth and Predicted values\n",
    "results = pd.DataFrame({\n",
    "    'Client ID': data_test['Client ID'],\n",
    "    'Ground Truth': np.argmax(y_test, axis=1), # Convert y_test to 1D by getting the index of the max value in each row\n",
    "    'Predicted': y_pred_test\n",
    "})\n",
    "\n",
    "print(\"\\nInference Results:\")\n",
    "print(results)\n",
    "\n",
    "# Display detected intruders\n",
    "detected_intruders = results[results['Predicted'] == 1]\n",
    "detected_clients = results[results['Predicted'] == 0]\n",
    "print(\"\\nDetected Intruders:\")\n",
    "print(detected_intruders)\n",
    "\n",
    "# Matrix for correctly and incorrectly detected intruders and clients\n",
    "tn, fp, fn, tp = cm.ravel()\n",
    "matrix = pd.DataFrame({\n",
    "    'Correctly Detected': [tn, tp],\n",
    "    'Incorrectly Detected': [fp, fn]\n",
    "}, index=['Clients', 'Intruders'])\n",
    "\n",
    "print(\"\\nDetection Matrix:\")\n",
    "print(matrix)"
   ],
   "metadata": {
    "colab": {
     "base_uri": "https://localhost:8080/"
    },
    "id": "7OXjKyx0SIi7",
    "executionInfo": {
     "status": "ok",
     "timestamp": 1722270417405,
     "user_tz": -60,
     "elapsed": 6,
     "user": {
      "displayName": "Taneya Sharma",
      "userId": "15266465864194635850"
     }
    },
    "outputId": "d14cb64a-1b29-45ec-9fe3-503dafe7e161"
   },
   "execution_count": 85,
   "outputs": [
    {
     "output_type": "stream",
     "name": "stdout",
     "text": [
      "\n",
      "Inference Results:\n",
      "       Client ID  Ground Truth  Predicted\n",
      "0       client_5             0          0\n",
      "1       client_1             0          0\n",
      "2      intruder2             1          0\n",
      "3       client_1             0          0\n",
      "4       client_1             0          0\n",
      "...          ...           ...        ...\n",
      "48155   client_1             0          0\n",
      "48156   client_1             0          0\n",
      "48157   client_1             0          0\n",
      "48158  intruder2             1          0\n",
      "48159   client_5             0          0\n",
      "\n",
      "[48160 rows x 3 columns]\n",
      "\n",
      "Detected Intruders:\n",
      "       Client ID  Ground Truth  Predicted\n",
      "6      intruder2             1          1\n",
      "8       client_1             0          1\n",
      "9      intruder2             1          1\n",
      "17      client_1             0          1\n",
      "20     intruder2             1          1\n",
      "...          ...           ...        ...\n",
      "48088  intruder2             1          1\n",
      "48101  intruder2             1          1\n",
      "48109  intruder2             1          1\n",
      "48127  intruder2             1          1\n",
      "48131  intruder2             1          1\n",
      "\n",
      "[3196 rows x 3 columns]\n",
      "\n",
      "Detection Matrix:\n",
      "           Correctly Detected  Incorrectly Detected\n",
      "Clients                 43443                  1433\n",
      "Intruders                1763                  1521\n"
     ]
    }
   ]
  },
  {
   "cell_type": "code",
   "source": [
    "# Plot the matrix\n",
    "matrix.plot(kind='bar', stacked=True, figsize=(10, 6))\n",
    "plt.title('Correctly and Incorrectly Detected Clients and Intruders')\n",
    "plt.xlabel('Category')\n",
    "plt.ylabel('Count')\n",
    "plt.legend(title='Detection')\n",
    "plt.show()"
   ],
   "metadata": {
    "colab": {
     "base_uri": "https://localhost:8080/",
     "height": 517
    },
    "id": "nHjOn77ZO2EI",
    "executionInfo": {
     "status": "ok",
     "timestamp": 1722270417778,
     "user_tz": -60,
     "elapsed": 377,
     "user": {
      "displayName": "Taneya Sharma",
      "userId": "15266465864194635850"
     }
    },
    "outputId": "395e6a9c-4051-41ae-9091-93dc7f8caff4"
   },
   "execution_count": 86,
   "outputs": [
    {
     "output_type": "display_data",
     "data": {
      "text/plain": [
       "<Figure size 1000x600 with 1 Axes>"
      ],
      "image/png": "[encoded data removed]"
     },
     "metadata": {}
    }
   ]
  },
  {
   "cell_type": "code",
   "source": [
    "# Calculate confusion matrix values\n",
    "tn, fp, fn, tp = confusion_matrix(y_test_true, y_pred_test).ravel()\n",
    "\n",
    "# Calculate evaluation metrics\n",
    "accuracy = (tp + tn) / (tp + tn + fp + fn)\n",
    "recall = tp / (tp + fn)\n",
    "precision = tp / (tp + fp)\n",
    "fpr = fp / (fp + tn)"
   ],
   "metadata": {
    "id": "qCmDQnHNRzXx",
    "executionInfo": {
     "status": "ok",
     "timestamp": 1722270417778,
     "user_tz": -60,
     "elapsed": 9,
     "user": {
      "displayName": "Taneya Sharma",
      "userId": "15266465864194635850"
     }
    }
   },
   "execution_count": 87,
   "outputs": []
  },
  {
   "cell_type": "code",
   "source": [
    "print(f'Client Detection Success Rate (TNR) for test dataset: {(tn / (tn + fp) * 100):.2f}%')\n",
    "print(f'Intruder Detection Success Rate (TPR) for test dataset: {(tp / (tp + fn) * 100):.2f}%')"
   ],
   "metadata": {
    "colab": {
     "base_uri": "https://localhost:8080/"
    },
    "id": "4dahhM9W16p5",
    "executionInfo": {
     "status": "ok",
     "timestamp": 1722270417778,
     "user_tz": -60,
     "elapsed": 8,
     "user": {
      "displayName": "Taneya Sharma",
      "userId": "15266465864194635850"
     }
    },
    "outputId": "1531c9a9-8d5a-4811-953f-c92a31c89ab4"
   },
   "execution_count": 88,
   "outputs": [
    {
     "output_type": "stream",
     "name": "stdout",
     "text": [
      "Client Detection Success Rate (TNR) for test dataset: 96.81%\n",
      "Intruder Detection Success Rate (TPR) for test dataset: 53.68%\n"
     ]
    }
   ]
  },
  {
   "cell_type": "code",
   "source": [
    "# Calculate DR, FPR, and FNR for different thresholds\n",
    "y_proba = model.predict(X_test_scale)[:, 1]\n",
    "fpr_list, recall_list, threshold_list = roc_curve(y_test_true, y_proba)\n",
    "\n",
    "dr_list = recall_list\n",
    "fnr_list = 1 - recall_list"
   ],
   "metadata": {
    "colab": {
     "base_uri": "https://localhost:8080/"
    },
    "id": "fZlWu-vqR2Z4",
    "executionInfo": {
     "status": "ok",
     "timestamp": 1722270419448,
     "user_tz": -60,
     "elapsed": 1676,
     "user": {
      "displayName": "Taneya Sharma",
      "userId": "15266465864194635850"
     }
    },
    "outputId": "3a649890-44ba-4e21-9421-4d9c51e34ee5"
   },
   "execution_count": 89,
   "outputs": [
    {
     "output_type": "stream",
     "name": "stdout",
     "text": [
      "1505/1505 [==============================] - 2s 1ms/step\n"
     ]
    }
   ]
  },
  {
   "cell_type": "code",
   "source": [
    "plt.figure(figsize=(10, 6))\n",
    "plt.plot(threshold_list, dr_list, label='Detection Rate (Recall)')\n",
    "plt.plot(threshold_list, fpr_list, label='False Positive Rate (FPR)')\n",
    "plt.plot(threshold_list, fnr_list, label='False Negative Rate (FNR)')\n",
    "plt.xlabel('Threshold')\n",
    "plt.ylabel('Rate')\n",
    "plt.title('Detection Rate, FPR, FNR vs Threshold')\n",
    "plt.legend(loc='upper right')\n",
    "plt.show()"
   ],
   "metadata": {
    "colab": {
     "base_uri": "https://localhost:8080/",
     "height": 488
    },
    "id": "H0u3NBHoR5RR",
    "executionInfo": {
     "status": "ok",
     "timestamp": 1722270419828,
     "user_tz": -60,
     "elapsed": 382,
     "user": {
      "displayName": "Taneya Sharma",
      "userId": "15266465864194635850"
     }
    },
    "outputId": "d7ec7d0c-33ce-4569-9adf-72f044c79ce6"
   },
   "execution_count": 90,
   "outputs": [
    {
     "output_type": "display_data",
     "data": {
      "text/plain": [
       "<Figure size 1000x600 with 1 Axes>"
      ],
      "image/png": "[encoded data removed]"
     },
     "metadata": {}
    }
   ]
  }
 ],
 "metadata": {
  "colab": {
   "provenance": [],
   "gpuType": "V28",
   "authorship_tag": "ABX9TyPb1uVlJBXMx+QGallWP8jM"
  },
  "kernelspec": {
   "display_name": "Python 3",
   "name": "python3"
  },
  "language_info": {
   "name": "python"
  },
  "accelerator": "TPU"
 },
 "nbformat": 4,
 "nbformat_minor": 0
}
